{
 "cells": [
  {
   "cell_type": "markdown",
   "metadata": {},
   "source": [
    "# Linear Regression"
   ]
  },
  {
   "cell_type": "code",
   "execution_count": 1,
   "metadata": {},
   "outputs": [],
   "source": [
    "import pandas as pd\n",
    "import numpy as np\n",
    "import matplotlib.pyplot as plt\n",
    "from sklearn.linear_model import LinearRegression\n",
    "from sklearn.metrics import r2_score"
   ]
  },
  {
   "cell_type": "code",
   "execution_count": 9,
   "metadata": {},
   "outputs": [],
   "source": [
    "df_train = pd.read_csv('D:/Documents/cours/INSA/5A/Projet_Intégrateur/data/201909-citibike-tripdata.csv/201909-citibike-tripdata.csv')\n",
    "df_tEST = pd.read_csv('D:/Documents/cours/INSA/5A/Projet_Intégrateur/data/201909-citibike-tripdata.csv/201909-citibike-tripdata.csv')"
   ]
  },
  {
   "cell_type": "code",
   "execution_count": 10,
   "metadata": {},
   "outputs": [
    {
     "name": "stdout",
     "output_type": "stream",
     "text": [
      "         tripduration                 starttime                  stoptime  \\\n",
      "0                 327  2019-09-01 00:00:01.9580  2019-09-01 00:05:29.3410   \n",
      "1                1145  2019-09-01 00:00:04.1430  2019-09-01 00:19:09.8360   \n",
      "2                1293  2019-09-01 00:00:07.3090  2019-09-01 00:21:40.7580   \n",
      "3                1753  2019-09-01 00:00:08.0640  2019-09-01 00:29:21.5040   \n",
      "4                 613  2019-09-01 00:00:12.8510  2019-09-01 00:10:26.1850   \n",
      "...               ...                       ...                       ...   \n",
      "2444895          1764  2019-09-30 23:59:22.7670  2019-10-01 00:28:47.3180   \n",
      "2444896           378  2019-09-30 23:59:27.9270  2019-10-01 00:05:46.5700   \n",
      "2444897           561  2019-09-30 23:59:29.1450  2019-10-01 00:08:50.8070   \n",
      "2444898           311  2019-09-30 23:59:42.2520  2019-10-01 00:04:54.2320   \n",
      "2444899          1500  2019-09-30 23:59:55.3740  2019-10-01 00:24:55.8400   \n",
      "\n",
      "         start station id           start station name  \\\n",
      "0                    3733           Avenue C & E 18 St   \n",
      "1                    3329         Degraw St & Smith St   \n",
      "2                    3168  Central Park West & W 85 St   \n",
      "3                    3299           E 98 St & Park Ave   \n",
      "4                     486           Broadway & W 29 St   \n",
      "...                   ...                          ...   \n",
      "2444895              3314           W 95 St & Broadway   \n",
      "2444896               316       Fulton St & William St   \n",
      "2444897              3260      Mercer St & Bleecker St   \n",
      "2444898              3746            6 Ave & Broome St   \n",
      "2444899               331          Pike St & Monroe St   \n",
      "\n",
      "         start station latitude  start station longitude  end station id  \\\n",
      "0                     40.730563               -73.973984             504   \n",
      "1                     40.682915               -73.993182             270   \n",
      "2                     40.784727               -73.969617             423   \n",
      "3                     40.788130               -73.952060            3160   \n",
      "4                     40.746201               -73.988557             478   \n",
      "...                         ...                      ...             ...   \n",
      "2444895               40.793770               -73.971888            3161   \n",
      "2444896               40.709560               -74.006536             327   \n",
      "2444897               40.727064               -73.996621             393   \n",
      "2444898               40.724308               -74.004730            3435   \n",
      "2444899               40.711731               -73.991930            2012   \n",
      "\n",
      "                    end station name  end station latitude  \\\n",
      "0                    1 Ave & E 16 St             40.732219   \n",
      "1            Adelphi St & Myrtle Ave             40.693083   \n",
      "2                    W 54 St & 9 Ave             40.765849   \n",
      "3        Central Park West & W 76 St             40.778968   \n",
      "4                   11 Ave & W 41 St             40.760301   \n",
      "...                              ...                   ...   \n",
      "2444895       W 76 St & Columbus Ave             40.780184   \n",
      "2444896     Vesey Pl & River Terrace             40.715338   \n",
      "2444897            E 5 St & Avenue C             40.722992   \n",
      "2444898      Grand St & Elizabeth St             40.718822   \n",
      "2444899              E 27 St & 1 Ave             40.739445   \n",
      "\n",
      "         end station longitude  bikeid    usertype  birth year  gender  \n",
      "0                   -73.981656   39213  Subscriber        1968       1  \n",
      "1                   -73.971789   21257    Customer        1969       0  \n",
      "2                   -73.986905   15242    Customer        1969       0  \n",
      "3                   -73.973747   38760  Subscriber        1990       1  \n",
      "4                   -73.998842   32094  Subscriber        1992       1  \n",
      "...                        ...     ...         ...         ...     ...  \n",
      "2444895             -73.977285   41516    Customer        1995       1  \n",
      "2444896             -74.016584   31124  Subscriber        1959       2  \n",
      "2444897             -73.979955   30285    Customer        1998       1  \n",
      "2444898             -73.995960   38290  Subscriber        1989       1  \n",
      "2444899             -73.976806   34013    Customer        1969       0  \n",
      "\n",
      "[2444900 rows x 15 columns]\n"
     ]
    }
   ],
   "source": [
    "print(df_train)"
   ]
  },
  {
   "cell_type": "code",
   "execution_count": 22,
   "metadata": {},
   "outputs": [],
   "source": [
    "trainingset={\n",
    "    'start station id':df_train['start station id'],\n",
    "    'start station name':df_train['start station name'],\n",
    "    'start station latitude':df_train['start station latitude'],\n",
    "    'start station longitude':df_train['start station longitude']}\n",
    "\n",
    "trainingset=pd.DataFrame(trainingset, columns=['start station id','start station name','start station latitude','start station longitude'])"
   ]
  },
  {
   "cell_type": "code",
   "execution_count": 23,
   "metadata": {},
   "outputs": [
    {
     "name": "stdout",
     "output_type": "stream",
     "text": [
      "         start station id           start station name  \\\n",
      "0                    3733           Avenue C & E 18 St   \n",
      "1                    3329         Degraw St & Smith St   \n",
      "2                    3168  Central Park West & W 85 St   \n",
      "3                    3299           E 98 St & Park Ave   \n",
      "4                     486           Broadway & W 29 St   \n",
      "...                   ...                          ...   \n",
      "2444895              3314           W 95 St & Broadway   \n",
      "2444896               316       Fulton St & William St   \n",
      "2444897              3260      Mercer St & Bleecker St   \n",
      "2444898              3746            6 Ave & Broome St   \n",
      "2444899               331          Pike St & Monroe St   \n",
      "\n",
      "         start station latitude  start station longitude  \n",
      "0                     40.730563               -73.973984  \n",
      "1                     40.682915               -73.993182  \n",
      "2                     40.784727               -73.969617  \n",
      "3                     40.788130               -73.952060  \n",
      "4                     40.746201               -73.988557  \n",
      "...                         ...                      ...  \n",
      "2444895               40.793770               -73.971888  \n",
      "2444896               40.709560               -74.006536  \n",
      "2444897               40.727064               -73.996621  \n",
      "2444898               40.724308               -74.004730  \n",
      "2444899               40.711731               -73.991930  \n",
      "\n",
      "[2444900 rows x 4 columns]\n"
     ]
    }
   ],
   "source": [
    "print(trainingset)"
   ]
  },
  {
   "cell_type": "code",
   "execution_count": null,
   "metadata": {},
   "outputs": [],
   "source": []
  }
 ],
 "metadata": {
  "kernelspec": {
   "display_name": "Python 3",
   "language": "python",
   "name": "python3"
  },
  "language_info": {
   "codemirror_mode": {
    "name": "ipython",
    "version": 3
   },
   "file_extension": ".py",
   "mimetype": "text/x-python",
   "name": "python",
   "nbconvert_exporter": "python",
   "pygments_lexer": "ipython3",
   "version": "3.7.4"
  }
 },
 "nbformat": 4,
 "nbformat_minor": 2
}
